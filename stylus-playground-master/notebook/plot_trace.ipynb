{
 "cells": [
  {
   "cell_type": "markdown",
   "id": "fatty-landscape",
   "metadata": {},
   "source": [
    "## Show traces"
   ]
  },
  {
   "cell_type": "code",
   "execution_count": 1,
   "id": "8f05883a",
   "metadata": {},
   "outputs": [],
   "source": [
    "import numpy as np\n",
    "import pandas as pd\n",
    "\n",
    "import ahrs\n",
    "\n",
    "import matplotlib.pyplot as plt\n",
    "\n",
    "from tqdm import tqdm"
   ]
  },
  {
   "cell_type": "markdown",
   "id": "2307a5b2",
   "metadata": {},
   "source": [
    "## Load data"
   ]
  },
  {
   "cell_type": "code",
   "execution_count": 2,
   "id": "28fe40f6",
   "metadata": {},
   "outputs": [
    {
     "data": {
      "text/html": [
       "<div>\n",
       "<style scoped>\n",
       "    .dataframe tbody tr th:only-of-type {\n",
       "        vertical-align: middle;\n",
       "    }\n",
       "\n",
       "    .dataframe tbody tr th {\n",
       "        vertical-align: top;\n",
       "    }\n",
       "\n",
       "    .dataframe thead th {\n",
       "        text-align: right;\n",
       "    }\n",
       "</style>\n",
       "<table border=\"1\" class=\"dataframe\">\n",
       "  <thead>\n",
       "    <tr style=\"text-align: right;\">\n",
       "      <th></th>\n",
       "      <th>host_timestamp</th>\n",
       "      <th>arduino_timestamp</th>\n",
       "      <th>ax</th>\n",
       "      <th>ay</th>\n",
       "      <th>az</th>\n",
       "      <th>gx</th>\n",
       "      <th>gy</th>\n",
       "      <th>gz</th>\n",
       "      <th>temperature</th>\n",
       "    </tr>\n",
       "  </thead>\n",
       "  <tbody>\n",
       "    <tr>\n",
       "      <th>0</th>\n",
       "      <td>43371514769600</td>\n",
       "      <td>730406</td>\n",
       "      <td>-3.9900</td>\n",
       "      <td>-3.3763</td>\n",
       "      <td>7.1581</td>\n",
       "      <td>0.4435</td>\n",
       "      <td>0.2822</td>\n",
       "      <td>0.0770</td>\n",
       "      <td>20.25</td>\n",
       "    </tr>\n",
       "    <tr>\n",
       "      <th>1</th>\n",
       "      <td>43371526109300</td>\n",
       "      <td>730418</td>\n",
       "      <td>-3.9171</td>\n",
       "      <td>-2.0626</td>\n",
       "      <td>6.5539</td>\n",
       "      <td>0.4300</td>\n",
       "      <td>0.1955</td>\n",
       "      <td>0.0586</td>\n",
       "      <td>20.21</td>\n",
       "    </tr>\n",
       "    <tr>\n",
       "      <th>2</th>\n",
       "      <td>43371537892800</td>\n",
       "      <td>730429</td>\n",
       "      <td>-4.3848</td>\n",
       "      <td>-2.0913</td>\n",
       "      <td>6.5695</td>\n",
       "      <td>-0.1943</td>\n",
       "      <td>-0.0586</td>\n",
       "      <td>-0.1319</td>\n",
       "      <td>20.25</td>\n",
       "    </tr>\n",
       "    <tr>\n",
       "      <th>3</th>\n",
       "      <td>43371549019900</td>\n",
       "      <td>730441</td>\n",
       "      <td>-4.5607</td>\n",
       "      <td>-2.6261</td>\n",
       "      <td>7.0074</td>\n",
       "      <td>-0.6060</td>\n",
       "      <td>-0.2944</td>\n",
       "      <td>-0.2957</td>\n",
       "      <td>20.25</td>\n",
       "    </tr>\n",
       "    <tr>\n",
       "      <th>4</th>\n",
       "      <td>43371560073300</td>\n",
       "      <td>730452</td>\n",
       "      <td>-4.5691</td>\n",
       "      <td>-3.5462</td>\n",
       "      <td>7.8341</td>\n",
       "      <td>-0.8821</td>\n",
       "      <td>-0.4826</td>\n",
       "      <td>-0.4398</td>\n",
       "      <td>20.21</td>\n",
       "    </tr>\n",
       "    <tr>\n",
       "      <th>...</th>\n",
       "      <td>...</td>\n",
       "      <td>...</td>\n",
       "      <td>...</td>\n",
       "      <td>...</td>\n",
       "      <td>...</td>\n",
       "      <td>...</td>\n",
       "      <td>...</td>\n",
       "      <td>...</td>\n",
       "      <td>...</td>\n",
       "    </tr>\n",
       "    <tr>\n",
       "      <th>75962</th>\n",
       "      <td>44229629181000</td>\n",
       "      <td>1588504</td>\n",
       "      <td>-7.7515</td>\n",
       "      <td>3.9529</td>\n",
       "      <td>5.0572</td>\n",
       "      <td>0.0330</td>\n",
       "      <td>0.0415</td>\n",
       "      <td>-0.0476</td>\n",
       "      <td>23.49</td>\n",
       "    </tr>\n",
       "    <tr>\n",
       "      <th>75963</th>\n",
       "      <td>44229640340200</td>\n",
       "      <td>1588515</td>\n",
       "      <td>-7.7815</td>\n",
       "      <td>3.9338</td>\n",
       "      <td>5.0680</td>\n",
       "      <td>0.0183</td>\n",
       "      <td>0.0293</td>\n",
       "      <td>-0.0440</td>\n",
       "      <td>23.52</td>\n",
       "    </tr>\n",
       "    <tr>\n",
       "      <th>75964</th>\n",
       "      <td>44229652049200</td>\n",
       "      <td>1588527</td>\n",
       "      <td>-7.7922</td>\n",
       "      <td>3.8740</td>\n",
       "      <td>5.0943</td>\n",
       "      <td>0.0061</td>\n",
       "      <td>0.0134</td>\n",
       "      <td>-0.0464</td>\n",
       "      <td>23.52</td>\n",
       "    </tr>\n",
       "    <tr>\n",
       "      <th>75965</th>\n",
       "      <td>44229663120200</td>\n",
       "      <td>1588538</td>\n",
       "      <td>-7.7982</td>\n",
       "      <td>3.7507</td>\n",
       "      <td>5.1338</td>\n",
       "      <td>-0.0037</td>\n",
       "      <td>-0.0012</td>\n",
       "      <td>-0.0501</td>\n",
       "      <td>23.48</td>\n",
       "    </tr>\n",
       "    <tr>\n",
       "      <th>75966</th>\n",
       "      <td>44229674898500</td>\n",
       "      <td>1588549</td>\n",
       "      <td>-7.7623</td>\n",
       "      <td>3.6562</td>\n",
       "      <td>5.1864</td>\n",
       "      <td>0.0012</td>\n",
       "      <td>-0.0147</td>\n",
       "      <td>-0.0525</td>\n",
       "      <td>23.48</td>\n",
       "    </tr>\n",
       "  </tbody>\n",
       "</table>\n",
       "<p>75967 rows × 9 columns</p>\n",
       "</div>"
      ],
      "text/plain": [
       "       host_timestamp  arduino_timestamp      ax      ay      az      gx  \\\n",
       "0      43371514769600             730406 -3.9900 -3.3763  7.1581  0.4435   \n",
       "1      43371526109300             730418 -3.9171 -2.0626  6.5539  0.4300   \n",
       "2      43371537892800             730429 -4.3848 -2.0913  6.5695 -0.1943   \n",
       "3      43371549019900             730441 -4.5607 -2.6261  7.0074 -0.6060   \n",
       "4      43371560073300             730452 -4.5691 -3.5462  7.8341 -0.8821   \n",
       "...               ...                ...     ...     ...     ...     ...   \n",
       "75962  44229629181000            1588504 -7.7515  3.9529  5.0572  0.0330   \n",
       "75963  44229640340200            1588515 -7.7815  3.9338  5.0680  0.0183   \n",
       "75964  44229652049200            1588527 -7.7922  3.8740  5.0943  0.0061   \n",
       "75965  44229663120200            1588538 -7.7982  3.7507  5.1338 -0.0037   \n",
       "75966  44229674898500            1588549 -7.7623  3.6562  5.1864  0.0012   \n",
       "\n",
       "           gy      gz  temperature  \n",
       "0      0.2822  0.0770        20.25  \n",
       "1      0.1955  0.0586        20.21  \n",
       "2     -0.0586 -0.1319        20.25  \n",
       "3     -0.2944 -0.2957        20.25  \n",
       "4     -0.4826 -0.4398        20.21  \n",
       "...       ...     ...          ...  \n",
       "75962  0.0415 -0.0476        23.49  \n",
       "75963  0.0293 -0.0440        23.52  \n",
       "75964  0.0134 -0.0464        23.52  \n",
       "75965 -0.0012 -0.0501        23.48  \n",
       "75966 -0.0147 -0.0525        23.48  \n",
       "\n",
       "[75967 rows x 9 columns]"
      ]
     },
     "execution_count": 2,
     "metadata": {},
     "output_type": "execute_result"
    }
   ],
   "source": [
    "# Load Arduino-based IMU dump\n",
    "imu_df = pd.read_csv(\"../data/set1_imu.csv\")\n",
    "imu_df"
   ]
  },
  {
   "cell_type": "code",
   "execution_count": 3,
   "id": "a01063ce",
   "metadata": {},
   "outputs": [
    {
     "data": {
      "text/html": [
       "<div>\n",
       "<style scoped>\n",
       "    .dataframe tbody tr th:only-of-type {\n",
       "        vertical-align: middle;\n",
       "    }\n",
       "\n",
       "    .dataframe tbody tr th {\n",
       "        vertical-align: top;\n",
       "    }\n",
       "\n",
       "    .dataframe thead th {\n",
       "        text-align: right;\n",
       "    }\n",
       "</style>\n",
       "<table border=\"1\" class=\"dataframe\">\n",
       "  <thead>\n",
       "    <tr style=\"text-align: right;\">\n",
       "      <th></th>\n",
       "      <th>host_timestamp</th>\n",
       "      <th>x</th>\n",
       "      <th>y</th>\n",
       "      <th>z</th>\n",
       "      <th>in_range</th>\n",
       "      <th>touch</th>\n",
       "      <th>pressure</th>\n",
       "      <th>reset</th>\n",
       "    </tr>\n",
       "  </thead>\n",
       "  <tbody>\n",
       "    <tr>\n",
       "      <th>0</th>\n",
       "      <td>43375067069000</td>\n",
       "      <td>-125.000000</td>\n",
       "      <td>727.000000</td>\n",
       "      <td>0</td>\n",
       "      <td>0</td>\n",
       "      <td>0</td>\n",
       "      <td>0</td>\n",
       "      <td>0</td>\n",
       "    </tr>\n",
       "    <tr>\n",
       "      <th>1</th>\n",
       "      <td>43375085835600</td>\n",
       "      <td>-125.000000</td>\n",
       "      <td>727.000000</td>\n",
       "      <td>0</td>\n",
       "      <td>0</td>\n",
       "      <td>0</td>\n",
       "      <td>0</td>\n",
       "      <td>0</td>\n",
       "    </tr>\n",
       "    <tr>\n",
       "      <th>2</th>\n",
       "      <td>43375103211700</td>\n",
       "      <td>-125.000000</td>\n",
       "      <td>727.000000</td>\n",
       "      <td>0</td>\n",
       "      <td>0</td>\n",
       "      <td>0</td>\n",
       "      <td>0</td>\n",
       "      <td>0</td>\n",
       "    </tr>\n",
       "    <tr>\n",
       "      <th>3</th>\n",
       "      <td>43375119624300</td>\n",
       "      <td>-125.000000</td>\n",
       "      <td>727.000000</td>\n",
       "      <td>0</td>\n",
       "      <td>0</td>\n",
       "      <td>0</td>\n",
       "      <td>0</td>\n",
       "      <td>0</td>\n",
       "    </tr>\n",
       "    <tr>\n",
       "      <th>4</th>\n",
       "      <td>43375136587100</td>\n",
       "      <td>-125.000000</td>\n",
       "      <td>727.000000</td>\n",
       "      <td>0</td>\n",
       "      <td>0</td>\n",
       "      <td>0</td>\n",
       "      <td>0</td>\n",
       "      <td>0</td>\n",
       "    </tr>\n",
       "    <tr>\n",
       "      <th>...</th>\n",
       "      <td>...</td>\n",
       "      <td>...</td>\n",
       "      <td>...</td>\n",
       "      <td>...</td>\n",
       "      <td>...</td>\n",
       "      <td>...</td>\n",
       "      <td>...</td>\n",
       "      <td>...</td>\n",
       "    </tr>\n",
       "    <tr>\n",
       "      <th>57262</th>\n",
       "      <td>44224171305000</td>\n",
       "      <td>421.307164</td>\n",
       "      <td>117.212863</td>\n",
       "      <td>0</td>\n",
       "      <td>0</td>\n",
       "      <td>0</td>\n",
       "      <td>0</td>\n",
       "      <td>0</td>\n",
       "    </tr>\n",
       "    <tr>\n",
       "      <th>57263</th>\n",
       "      <td>44224187636300</td>\n",
       "      <td>421.307164</td>\n",
       "      <td>117.212863</td>\n",
       "      <td>0</td>\n",
       "      <td>0</td>\n",
       "      <td>0</td>\n",
       "      <td>0</td>\n",
       "      <td>0</td>\n",
       "    </tr>\n",
       "    <tr>\n",
       "      <th>57264</th>\n",
       "      <td>44224204691800</td>\n",
       "      <td>421.307164</td>\n",
       "      <td>117.212863</td>\n",
       "      <td>0</td>\n",
       "      <td>0</td>\n",
       "      <td>0</td>\n",
       "      <td>0</td>\n",
       "      <td>0</td>\n",
       "    </tr>\n",
       "    <tr>\n",
       "      <th>57265</th>\n",
       "      <td>44224219941300</td>\n",
       "      <td>421.307164</td>\n",
       "      <td>117.212863</td>\n",
       "      <td>0</td>\n",
       "      <td>0</td>\n",
       "      <td>0</td>\n",
       "      <td>0</td>\n",
       "      <td>0</td>\n",
       "    </tr>\n",
       "    <tr>\n",
       "      <th>57266</th>\n",
       "      <td>44224236437600</td>\n",
       "      <td>421.307164</td>\n",
       "      <td>117.212863</td>\n",
       "      <td>0</td>\n",
       "      <td>0</td>\n",
       "      <td>0</td>\n",
       "      <td>0</td>\n",
       "      <td>0</td>\n",
       "    </tr>\n",
       "  </tbody>\n",
       "</table>\n",
       "<p>57267 rows × 8 columns</p>\n",
       "</div>"
      ],
      "text/plain": [
       "       host_timestamp           x           y  z  in_range  touch  pressure  \\\n",
       "0      43375067069000 -125.000000  727.000000  0         0      0         0   \n",
       "1      43375085835600 -125.000000  727.000000  0         0      0         0   \n",
       "2      43375103211700 -125.000000  727.000000  0         0      0         0   \n",
       "3      43375119624300 -125.000000  727.000000  0         0      0         0   \n",
       "4      43375136587100 -125.000000  727.000000  0         0      0         0   \n",
       "...               ...         ...         ... ..       ...    ...       ...   \n",
       "57262  44224171305000  421.307164  117.212863  0         0      0         0   \n",
       "57263  44224187636300  421.307164  117.212863  0         0      0         0   \n",
       "57264  44224204691800  421.307164  117.212863  0         0      0         0   \n",
       "57265  44224219941300  421.307164  117.212863  0         0      0         0   \n",
       "57266  44224236437600  421.307164  117.212863  0         0      0         0   \n",
       "\n",
       "       reset  \n",
       "0          0  \n",
       "1          0  \n",
       "2          0  \n",
       "3          0  \n",
       "4          0  \n",
       "...      ...  \n",
       "57262      0  \n",
       "57263      0  \n",
       "57264      0  \n",
       "57265      0  \n",
       "57266      0  \n",
       "\n",
       "[57267 rows x 8 columns]"
      ]
     },
     "execution_count": 3,
     "metadata": {},
     "output_type": "execute_result"
    }
   ],
   "source": [
    "# Load Wacom tablet dump\n",
    "tablet_df = pd.read_csv(\"../data/set1_tab.csv\", encoding=\"utf_16_le\")\n",
    "tablet_df"
   ]
  },
  {
   "cell_type": "markdown",
   "id": "center-crawford",
   "metadata": {},
   "source": [
    "## Timestamp innaccuracies"
   ]
  },
  {
   "cell_type": "code",
   "execution_count": 4,
   "id": "entitled-subscriber",
   "metadata": {},
   "outputs": [
    {
     "data": {
      "text/html": [
       "<div>\n",
       "<style scoped>\n",
       "    .dataframe tbody tr th:only-of-type {\n",
       "        vertical-align: middle;\n",
       "    }\n",
       "\n",
       "    .dataframe tbody tr th {\n",
       "        vertical-align: top;\n",
       "    }\n",
       "\n",
       "    .dataframe thead th {\n",
       "        text-align: right;\n",
       "    }\n",
       "</style>\n",
       "<table border=\"1\" class=\"dataframe\">\n",
       "  <thead>\n",
       "    <tr style=\"text-align: right;\">\n",
       "      <th></th>\n",
       "      <th>host_timestamp</th>\n",
       "      <th>arduino_timestamp</th>\n",
       "    </tr>\n",
       "  </thead>\n",
       "  <tbody>\n",
       "    <tr>\n",
       "      <th>1</th>\n",
       "      <td>11339700</td>\n",
       "      <td>12</td>\n",
       "    </tr>\n",
       "    <tr>\n",
       "      <th>2</th>\n",
       "      <td>11783500</td>\n",
       "      <td>11</td>\n",
       "    </tr>\n",
       "    <tr>\n",
       "      <th>3</th>\n",
       "      <td>11127100</td>\n",
       "      <td>12</td>\n",
       "    </tr>\n",
       "    <tr>\n",
       "      <th>4</th>\n",
       "      <td>11053400</td>\n",
       "      <td>11</td>\n",
       "    </tr>\n",
       "    <tr>\n",
       "      <th>5</th>\n",
       "      <td>11744400</td>\n",
       "      <td>12</td>\n",
       "    </tr>\n",
       "    <tr>\n",
       "      <th>...</th>\n",
       "      <td>...</td>\n",
       "      <td>...</td>\n",
       "    </tr>\n",
       "    <tr>\n",
       "      <th>75962</th>\n",
       "      <td>10917200</td>\n",
       "      <td>11</td>\n",
       "    </tr>\n",
       "    <tr>\n",
       "      <th>75963</th>\n",
       "      <td>11159200</td>\n",
       "      <td>11</td>\n",
       "    </tr>\n",
       "    <tr>\n",
       "      <th>75964</th>\n",
       "      <td>11709000</td>\n",
       "      <td>12</td>\n",
       "    </tr>\n",
       "    <tr>\n",
       "      <th>75965</th>\n",
       "      <td>11071000</td>\n",
       "      <td>11</td>\n",
       "    </tr>\n",
       "    <tr>\n",
       "      <th>75966</th>\n",
       "      <td>11778300</td>\n",
       "      <td>11</td>\n",
       "    </tr>\n",
       "  </tbody>\n",
       "</table>\n",
       "<p>75966 rows × 2 columns</p>\n",
       "</div>"
      ],
      "text/plain": [
       "       host_timestamp  arduino_timestamp\n",
       "1            11339700                 12\n",
       "2            11783500                 11\n",
       "3            11127100                 12\n",
       "4            11053400                 11\n",
       "5            11744400                 12\n",
       "...               ...                ...\n",
       "75962        10917200                 11\n",
       "75963        11159200                 11\n",
       "75964        11709000                 12\n",
       "75965        11071000                 11\n",
       "75966        11778300                 11\n",
       "\n",
       "[75966 rows x 2 columns]"
      ]
     },
     "execution_count": 4,
     "metadata": {},
     "output_type": "execute_result"
    }
   ],
   "source": [
    "# Compute steps, using both clocks\n",
    "df = imu_df[[\"host_timestamp\", \"arduino_timestamp\"]].diff().dropna().astype(int)\n",
    "df"
   ]
  },
  {
   "cell_type": "code",
   "execution_count": 5,
   "id": "contrary-grill",
   "metadata": {},
   "outputs": [
    {
     "data": {
      "image/png": "[encoded data removed]",
      "text/plain": [
       "<Figure size 432x432 with 1 Axes>"
      ]
     },
     "metadata": {
      "needs_background": "light"
     },
     "output_type": "display_data"
    }
   ],
   "source": [
    "# Due to transmission and processing delay, the `host_timestamp` is not accurate\n",
    "_, ax = plt.subplots(figsize=(6, 6))\n",
    "ax.scatter(\n",
    "    df[\"host_timestamp\"] * 1e-9,\n",
    "    df[\"arduino_timestamp\"] * 1e-3,\n",
    "    c=\"k\",\n",
    "    s=2,\n",
    "    alpha=0.1,\n",
    ")\n",
    "ax.plot([0.005, 0.025], [0.005, 0.025], c=\"gray\", ls=\"--\", zorder=-1)\n",
    "ax.set_aspect(\"equal\")\n",
    "ax.set_xlabel(\"host delta [s]\")\n",
    "ax.set_ylabel(\"arduino delta [s]\")\n",
    "ax.set_title(\"Step inconsistency\")\n",
    "plt.show()"
   ]
  },
  {
   "cell_type": "code",
   "execution_count": 6,
   "id": "fitted-nothing",
   "metadata": {},
   "outputs": [
    {
     "data": {
      "text/plain": [
       "11    54108\n",
       "12    21146\n",
       "13      644\n",
       "10       52\n",
       "20        6\n",
       "18        4\n",
       "21        2\n",
       "19        2\n",
       "24        1\n",
       "15        1\n",
       "Name: arduino_timestamp, dtype: int64"
      ]
     },
     "execution_count": 6,
     "metadata": {},
     "output_type": "execute_result"
    }
   ],
   "source": [
    "# Most common effective time steps\n",
    "df[\"arduino_timestamp\"].value_counts()"
   ]
  },
  {
   "cell_type": "code",
   "execution_count": 7,
   "id": "dated-indian",
   "metadata": {},
   "outputs": [
    {
     "data": {
      "image/png": "[encoded data removed]",
      "text/plain": [
       "<Figure size 576x216 with 1 Axes>"
      ]
     },
     "metadata": {
      "needs_background": "light"
     },
     "output_type": "display_data"
    }
   ],
   "source": [
    "# Show distribution\n",
    "_, ax = plt.subplots(figsize=(8, 3))\n",
    "imu_df[\"arduino_timestamp\"].diff()\n",
    "values = df.loc[df[\"arduino_timestamp\"] == 11, \"host_timestamp\"]\n",
    "ax.hist(values * 1e-9, bins=200, fc=\"k\")\n",
    "plt.show()"
   ]
  },
  {
   "cell_type": "markdown",
   "id": "908d04ed",
   "metadata": {},
   "source": [
    "## Resample"
   ]
  },
  {
   "cell_type": "code",
   "execution_count": 8,
   "id": "dimensional-knowing",
   "metadata": {},
   "outputs": [
    {
     "data": {
      "text/plain": [
       "62.58292237214309"
      ]
     },
     "execution_count": 8,
     "metadata": {},
     "output_type": "execute_result"
    }
   ],
   "source": [
    "# Tablet is roughly sampled at 60Hz\n",
    "1.0 / (tablet_df[\"host_timestamp\"].diff().median() * 1e-9)"
   ]
  },
  {
   "cell_type": "code",
   "execution_count": 9,
   "id": "charming-transition",
   "metadata": {},
   "outputs": [
    {
     "data": {
      "text/plain": [
       "89.58807403558438"
      ]
     },
     "execution_count": 9,
     "metadata": {},
     "output_type": "execute_result"
    }
   ],
   "source": [
    "# IMU is roughly sampled at 90Hz\n",
    "1.0 / (imu_df[\"host_timestamp\"].diff().median() * 1e-9)"
   ]
  },
  {
   "cell_type": "code",
   "execution_count": 10,
   "id": "aafd7324",
   "metadata": {},
   "outputs": [
    {
     "data": {
      "text/plain": [
       "849.1693686000001"
      ]
     },
     "execution_count": 10,
     "metadata": {},
     "output_type": "execute_result"
    }
   ],
   "source": [
    "# Intersection duration\n",
    "t_left, t_right = tablet_df[\"host_timestamp\"].iloc[[0, -1]]\n",
    "i_left, i_right = imu_df[\"host_timestamp\"].iloc[[0, -1]]\n",
    "left = max(t_left, i_left)\n",
    "right = min(t_right, i_right)\n",
    "(right - left) * 1e-9"
   ]
  },
  {
   "cell_type": "code",
   "execution_count": 11,
   "id": "instant-warren",
   "metadata": {},
   "outputs": [],
   "source": [
    "# Keep only the intersection\n",
    "df = imu_df[(imu_df[\"host_timestamp\"] >= left) & (imu_df[\"host_timestamp\"] <= right)].copy()"
   ]
  },
  {
   "cell_type": "code",
   "execution_count": 12,
   "id": "alien-armenia",
   "metadata": {},
   "outputs": [],
   "source": [
    "# Interpolate continuous variables\n",
    "# Note: booleans that are true/false over a period of time are considered as continuous\n",
    "for column in [\"x\", \"y\", \"z\", \"in_range\", \"touch\", \"pressure\"]:\n",
    "    df[column] = np.interp(df[\"host_timestamp\"], tablet_df[\"host_timestamp\"], tablet_df[column])"
   ]
  },
  {
   "cell_type": "code",
   "execution_count": 13,
   "id": "viral-evening",
   "metadata": {},
   "outputs": [],
   "source": [
    "# For reset, assign to closest timestamp\n",
    "mask = tablet_df[\"reset\"] != 0\n",
    "indices = np.searchsorted(df[\"host_timestamp\"], tablet_df.loc[mask, \"host_timestamp\"])\n",
    "df[\"reset\"] = 0\n",
    "df.loc[df.index[indices], \"reset\"] = tablet_df.loc[mask, \"reset\"].values"
   ]
  },
  {
   "cell_type": "code",
   "execution_count": 14,
   "id": "employed-library",
   "metadata": {},
   "outputs": [
    {
     "data": {
      "text/html": [
       "<div>\n",
       "<style scoped>\n",
       "    .dataframe tbody tr th:only-of-type {\n",
       "        vertical-align: middle;\n",
       "    }\n",
       "\n",
       "    .dataframe tbody tr th {\n",
       "        vertical-align: top;\n",
       "    }\n",
       "\n",
       "    .dataframe thead th {\n",
       "        text-align: right;\n",
       "    }\n",
       "</style>\n",
       "<table border=\"1\" class=\"dataframe\">\n",
       "  <thead>\n",
       "    <tr style=\"text-align: right;\">\n",
       "      <th></th>\n",
       "      <th>host_timestamp</th>\n",
       "      <th>arduino_timestamp</th>\n",
       "      <th>ax</th>\n",
       "      <th>ay</th>\n",
       "      <th>az</th>\n",
       "      <th>gx</th>\n",
       "      <th>gy</th>\n",
       "      <th>gz</th>\n",
       "      <th>temperature</th>\n",
       "      <th>x</th>\n",
       "      <th>y</th>\n",
       "      <th>z</th>\n",
       "      <th>in_range</th>\n",
       "      <th>touch</th>\n",
       "      <th>pressure</th>\n",
       "      <th>reset</th>\n",
       "    </tr>\n",
       "  </thead>\n",
       "  <tbody>\n",
       "    <tr>\n",
       "      <th>315</th>\n",
       "      <td>43375070723400</td>\n",
       "      <td>733964</td>\n",
       "      <td>-6.2584</td>\n",
       "      <td>4.5129</td>\n",
       "      <td>6.0251</td>\n",
       "      <td>-0.6671</td>\n",
       "      <td>0.0574</td>\n",
       "      <td>0.0391</td>\n",
       "      <td>20.29</td>\n",
       "      <td>-125.000000</td>\n",
       "      <td>727.000000</td>\n",
       "      <td>0.0</td>\n",
       "      <td>0.0</td>\n",
       "      <td>0.0</td>\n",
       "      <td>0.0</td>\n",
       "      <td>0</td>\n",
       "    </tr>\n",
       "    <tr>\n",
       "      <th>316</th>\n",
       "      <td>43375082694400</td>\n",
       "      <td>733975</td>\n",
       "      <td>-6.1543</td>\n",
       "      <td>4.7019</td>\n",
       "      <td>6.3446</td>\n",
       "      <td>-0.3641</td>\n",
       "      <td>0.1210</td>\n",
       "      <td>0.1381</td>\n",
       "      <td>20.29</td>\n",
       "      <td>-125.000000</td>\n",
       "      <td>727.000000</td>\n",
       "      <td>0.0</td>\n",
       "      <td>0.0</td>\n",
       "      <td>0.0</td>\n",
       "      <td>0.0</td>\n",
       "      <td>0</td>\n",
       "    </tr>\n",
       "    <tr>\n",
       "      <th>317</th>\n",
       "      <td>43375093727500</td>\n",
       "      <td>733986</td>\n",
       "      <td>-6.4271</td>\n",
       "      <td>4.7210</td>\n",
       "      <td>5.9474</td>\n",
       "      <td>-0.2016</td>\n",
       "      <td>0.2407</td>\n",
       "      <td>0.2456</td>\n",
       "      <td>20.29</td>\n",
       "      <td>-125.000000</td>\n",
       "      <td>727.000000</td>\n",
       "      <td>0.0</td>\n",
       "      <td>0.0</td>\n",
       "      <td>0.0</td>\n",
       "      <td>0.0</td>\n",
       "      <td>0</td>\n",
       "    </tr>\n",
       "    <tr>\n",
       "      <th>318</th>\n",
       "      <td>43375104950600</td>\n",
       "      <td>733998</td>\n",
       "      <td>-6.1352</td>\n",
       "      <td>4.9699</td>\n",
       "      <td>5.7595</td>\n",
       "      <td>0.1881</td>\n",
       "      <td>0.3176</td>\n",
       "      <td>0.4679</td>\n",
       "      <td>20.29</td>\n",
       "      <td>-125.000000</td>\n",
       "      <td>727.000000</td>\n",
       "      <td>0.0</td>\n",
       "      <td>0.0</td>\n",
       "      <td>0.0</td>\n",
       "      <td>0.0</td>\n",
       "      <td>0</td>\n",
       "    </tr>\n",
       "    <tr>\n",
       "      <th>319</th>\n",
       "      <td>43375116785300</td>\n",
       "      <td>734009</td>\n",
       "      <td>-6.0455</td>\n",
       "      <td>5.4987</td>\n",
       "      <td>5.6435</td>\n",
       "      <td>0.4166</td>\n",
       "      <td>0.2920</td>\n",
       "      <td>0.5107</td>\n",
       "      <td>20.25</td>\n",
       "      <td>-125.000000</td>\n",
       "      <td>727.000000</td>\n",
       "      <td>0.0</td>\n",
       "      <td>0.0</td>\n",
       "      <td>0.0</td>\n",
       "      <td>0.0</td>\n",
       "      <td>0</td>\n",
       "    </tr>\n",
       "    <tr>\n",
       "      <th>...</th>\n",
       "      <td>...</td>\n",
       "      <td>...</td>\n",
       "      <td>...</td>\n",
       "      <td>...</td>\n",
       "      <td>...</td>\n",
       "      <td>...</td>\n",
       "      <td>...</td>\n",
       "      <td>...</td>\n",
       "      <td>...</td>\n",
       "      <td>...</td>\n",
       "      <td>...</td>\n",
       "      <td>...</td>\n",
       "      <td>...</td>\n",
       "      <td>...</td>\n",
       "      <td>...</td>\n",
       "      <td>...</td>\n",
       "    </tr>\n",
       "    <tr>\n",
       "      <th>75480</th>\n",
       "      <td>44224181971000</td>\n",
       "      <td>1583056</td>\n",
       "      <td>-7.9669</td>\n",
       "      <td>3.7890</td>\n",
       "      <td>4.9484</td>\n",
       "      <td>0.0403</td>\n",
       "      <td>-0.0415</td>\n",
       "      <td>-0.0367</td>\n",
       "      <td>23.53</td>\n",
       "      <td>421.307164</td>\n",
       "      <td>117.212863</td>\n",
       "      <td>0.0</td>\n",
       "      <td>0.0</td>\n",
       "      <td>0.0</td>\n",
       "      <td>0.0</td>\n",
       "      <td>0</td>\n",
       "    </tr>\n",
       "    <tr>\n",
       "      <th>75481</th>\n",
       "      <td>44224193055700</td>\n",
       "      <td>1583068</td>\n",
       "      <td>-7.9693</td>\n",
       "      <td>3.7807</td>\n",
       "      <td>4.9268</td>\n",
       "      <td>0.0257</td>\n",
       "      <td>-0.0660</td>\n",
       "      <td>-0.0367</td>\n",
       "      <td>23.53</td>\n",
       "      <td>421.307164</td>\n",
       "      <td>117.212863</td>\n",
       "      <td>0.0</td>\n",
       "      <td>0.0</td>\n",
       "      <td>0.0</td>\n",
       "      <td>0.0</td>\n",
       "      <td>0</td>\n",
       "    </tr>\n",
       "    <tr>\n",
       "      <th>75482</th>\n",
       "      <td>44224204147000</td>\n",
       "      <td>1583079</td>\n",
       "      <td>-7.9083</td>\n",
       "      <td>3.8058</td>\n",
       "      <td>4.9795</td>\n",
       "      <td>0.0171</td>\n",
       "      <td>-0.0965</td>\n",
       "      <td>-0.0367</td>\n",
       "      <td>23.50</td>\n",
       "      <td>421.307164</td>\n",
       "      <td>117.212863</td>\n",
       "      <td>0.0</td>\n",
       "      <td>0.0</td>\n",
       "      <td>0.0</td>\n",
       "      <td>0.0</td>\n",
       "      <td>0</td>\n",
       "    </tr>\n",
       "    <tr>\n",
       "      <th>75483</th>\n",
       "      <td>44224215046800</td>\n",
       "      <td>1583091</td>\n",
       "      <td>-7.8556</td>\n",
       "      <td>3.7831</td>\n",
       "      <td>5.0919</td>\n",
       "      <td>0.0086</td>\n",
       "      <td>-0.1112</td>\n",
       "      <td>-0.0342</td>\n",
       "      <td>23.50</td>\n",
       "      <td>421.307164</td>\n",
       "      <td>117.212863</td>\n",
       "      <td>0.0</td>\n",
       "      <td>0.0</td>\n",
       "      <td>0.0</td>\n",
       "      <td>0.0</td>\n",
       "      <td>0</td>\n",
       "    </tr>\n",
       "    <tr>\n",
       "      <th>75484</th>\n",
       "      <td>44224226884100</td>\n",
       "      <td>1583102</td>\n",
       "      <td>-7.7575</td>\n",
       "      <td>3.7328</td>\n",
       "      <td>5.1386</td>\n",
       "      <td>0.0159</td>\n",
       "      <td>-0.1161</td>\n",
       "      <td>-0.0318</td>\n",
       "      <td>23.55</td>\n",
       "      <td>421.307164</td>\n",
       "      <td>117.212863</td>\n",
       "      <td>0.0</td>\n",
       "      <td>0.0</td>\n",
       "      <td>0.0</td>\n",
       "      <td>0.0</td>\n",
       "      <td>0</td>\n",
       "    </tr>\n",
       "  </tbody>\n",
       "</table>\n",
       "<p>75170 rows × 16 columns</p>\n",
       "</div>"
      ],
      "text/plain": [
       "       host_timestamp  arduino_timestamp      ax      ay      az      gx  \\\n",
       "315    43375070723400             733964 -6.2584  4.5129  6.0251 -0.6671   \n",
       "316    43375082694400             733975 -6.1543  4.7019  6.3446 -0.3641   \n",
       "317    43375093727500             733986 -6.4271  4.7210  5.9474 -0.2016   \n",
       "318    43375104950600             733998 -6.1352  4.9699  5.7595  0.1881   \n",
       "319    43375116785300             734009 -6.0455  5.4987  5.6435  0.4166   \n",
       "...               ...                ...     ...     ...     ...     ...   \n",
       "75480  44224181971000            1583056 -7.9669  3.7890  4.9484  0.0403   \n",
       "75481  44224193055700            1583068 -7.9693  3.7807  4.9268  0.0257   \n",
       "75482  44224204147000            1583079 -7.9083  3.8058  4.9795  0.0171   \n",
       "75483  44224215046800            1583091 -7.8556  3.7831  5.0919  0.0086   \n",
       "75484  44224226884100            1583102 -7.7575  3.7328  5.1386  0.0159   \n",
       "\n",
       "           gy      gz  temperature           x           y    z  in_range  \\\n",
       "315    0.0574  0.0391        20.29 -125.000000  727.000000  0.0       0.0   \n",
       "316    0.1210  0.1381        20.29 -125.000000  727.000000  0.0       0.0   \n",
       "317    0.2407  0.2456        20.29 -125.000000  727.000000  0.0       0.0   \n",
       "318    0.3176  0.4679        20.29 -125.000000  727.000000  0.0       0.0   \n",
       "319    0.2920  0.5107        20.25 -125.000000  727.000000  0.0       0.0   \n",
       "...       ...     ...          ...         ...         ...  ...       ...   \n",
       "75480 -0.0415 -0.0367        23.53  421.307164  117.212863  0.0       0.0   \n",
       "75481 -0.0660 -0.0367        23.53  421.307164  117.212863  0.0       0.0   \n",
       "75482 -0.0965 -0.0367        23.50  421.307164  117.212863  0.0       0.0   \n",
       "75483 -0.1112 -0.0342        23.50  421.307164  117.212863  0.0       0.0   \n",
       "75484 -0.1161 -0.0318        23.55  421.307164  117.212863  0.0       0.0   \n",
       "\n",
       "       touch  pressure  reset  \n",
       "315      0.0       0.0      0  \n",
       "316      0.0       0.0      0  \n",
       "317      0.0       0.0      0  \n",
       "318      0.0       0.0      0  \n",
       "319      0.0       0.0      0  \n",
       "...      ...       ...    ...  \n",
       "75480    0.0       0.0      0  \n",
       "75481    0.0       0.0      0  \n",
       "75482    0.0       0.0      0  \n",
       "75483    0.0       0.0      0  \n",
       "75484    0.0       0.0      0  \n",
       "\n",
       "[75170 rows x 16 columns]"
      ]
     },
     "execution_count": 14,
     "metadata": {},
     "output_type": "execute_result"
    }
   ],
   "source": [
    "# Show extract\n",
    "df"
   ]
  },
  {
   "cell_type": "markdown",
   "id": "eb6fb6f0",
   "metadata": {},
   "source": [
    "## Synchronization"
   ]
  },
  {
   "cell_type": "code",
   "execution_count": 15,
   "id": "3418a768",
   "metadata": {},
   "outputs": [],
   "source": [
    "# Start at zero, for convenience\n",
    "df[\"timestamp\"] = (df[\"host_timestamp\"] - left) * 1e-9"
   ]
  },
  {
   "cell_type": "code",
   "execution_count": 16,
   "id": "add11db4",
   "metadata": {},
   "outputs": [],
   "source": [
    "# Compute acceleration norm\n",
    "df[\"a\"] = np.sqrt(df[\"ax\"] ** 2 + df[\"ay\"] ** 2 + df[\"az\"] ** 2)"
   ]
  },
  {
   "cell_type": "code",
   "execution_count": 17,
   "id": "7a70426a",
   "metadata": {},
   "outputs": [
    {
     "data": {
      "image/png": "[encoded data removed]",
      "text/plain": [
       "<Figure size 576x432 with 3 Axes>"
      ]
     },
     "metadata": {
      "needs_background": "light"
     },
     "output_type": "display_data"
    }
   ],
   "source": [
    "# Show acceleration, angular velocity, and tip pressure\n",
    "_, axes = plt.subplots(3, sharex=True, figsize=(8, 6))\n",
    "axes[0].plot(df[\"timestamp\"].iloc[:1000], df[\"ax\"].iloc[:1000], c=\"r\")\n",
    "axes[0].plot(df[\"timestamp\"].iloc[:1000], df[\"ay\"].iloc[:1000], c=\"g\")\n",
    "axes[0].plot(df[\"timestamp\"].iloc[:1000], df[\"az\"].iloc[:1000], c=\"b\")\n",
    "axes[0].plot(df[\"timestamp\"].iloc[:1000], df[\"a\"].iloc[:1000], c=\"k\")\n",
    "axes[0].set_ylabel(\"acceleration\")\n",
    "axes[1].plot(df[\"timestamp\"].iloc[:1000], df[\"gx\"].iloc[:1000], c=\"r\")\n",
    "axes[1].plot(df[\"timestamp\"].iloc[:1000], df[\"gy\"].iloc[:1000], c=\"g\")\n",
    "axes[1].plot(df[\"timestamp\"].iloc[:1000], df[\"gz\"].iloc[:1000], c=\"b\")\n",
    "axes[1].set_ylabel(\"angular velocity\")\n",
    "axes[2].plot(df[\"timestamp\"].iloc[:1000], df[\"pressure\"].iloc[:1000], c=\"purple\")\n",
    "axes[2].set_ylabel(\"pressure\")\n",
    "axes[-1].set_xlabel(\"time [s]\")\n",
    "plt.show()"
   ]
  },
  {
   "cell_type": "code",
   "execution_count": 18,
   "id": "e60cb334",
   "metadata": {},
   "outputs": [
    {
     "data": {
      "image/png": "[encoded data removed]",
      "text/plain": [
       "<Figure size 576x144 with 2 Axes>"
      ]
     },
     "metadata": {
      "needs_background": "light"
     },
     "output_type": "display_data"
    }
   ],
   "source": [
    "# Focus on acceleration and pressure, when the pen was tapped 3 times\n",
    "_, ax = plt.subplots(figsize=(8, 2))\n",
    "ax.plot(df[\"timestamp\"].iloc[:500], df[\"ax\"].iloc[:500], c=\"r\")\n",
    "ax.plot(df[\"timestamp\"].iloc[:500], df[\"ay\"].iloc[:500], c=\"g\")\n",
    "ax.plot(df[\"timestamp\"].iloc[:500], df[\"az\"].iloc[:500], c=\"b\")\n",
    "ax.plot(df[\"timestamp\"].iloc[:500], df[\"a\"].iloc[:500], c=\"k\")\n",
    "ax.set_ylabel(\"acceleration\")\n",
    "ax2 = ax.twinx()\n",
    "ax2.plot(df[\"timestamp\"].iloc[:500], df[\"pressure\"].iloc[:500], c=\"purple\")\n",
    "ax2.set_ylabel(\"pressure\")\n",
    "ax.set_xlim(3.0, 5.0)\n",
    "plt.show()"
   ]
  },
  {
   "cell_type": "code",
   "execution_count": 19,
   "id": "af85f2d4",
   "metadata": {},
   "outputs": [],
   "source": [
    "# TODO try to align this?"
   ]
  },
  {
   "cell_type": "markdown",
   "id": "b1ca3555",
   "metadata": {},
   "source": [
    "## Show traces"
   ]
  },
  {
   "cell_type": "code",
   "execution_count": 20,
   "id": "7ee55c10",
   "metadata": {},
   "outputs": [
    {
     "data": {
      "text/plain": [
       "51"
      ]
     },
     "execution_count": 20,
     "metadata": {},
     "output_type": "execute_result"
    }
   ],
   "source": [
    "# How many segments were reported?\n",
    "boundaries, = np.where(df[\"reset\"] == 1)\n",
    "len(boundaries)"
   ]
  },
  {
   "cell_type": "code",
   "execution_count": 21,
   "id": "ea247378",
   "metadata": {},
   "outputs": [
    {
     "data": {
      "image/png": "[encoded data removed]",
      "text/plain": [
       "<Figure size 576x864 with 6 Axes>"
      ]
     },
     "metadata": {},
     "output_type": "display_data"
    }
   ],
   "source": [
    "# Show some of them\n",
    "indices = [0, 1, 2, 3, 4, 5]\n",
    "_, axes = plt.subplots(len(indices), sharex=True, sharey=True, figsize=(8, 2 * len(indices)))\n",
    "for index in indices:\n",
    "    chunk_df = df.iloc[boundaries[index]:boundaries[index+1]]\n",
    "    touch = chunk_df[\"touch\"] > 0\n",
    "    axes[index].plot(chunk_df[\"x\"].where(touch), chunk_df[\"y\"].where(touch), c=\"k\")\n",
    "    axes[index].plot(chunk_df[\"x\"].where(~touch), chunk_df[\"y\"].where(~touch), c=\"gray\", ls=\"--\", zorder=-1)\n",
    "    axes[index].set_aspect(\"equal\")\n",
    "    axes[index].set_xticks([])\n",
    "    axes[index].set_yticks([])\n",
    "plt.show()"
   ]
  },
  {
   "cell_type": "markdown",
   "id": "ee6597ed",
   "metadata": {},
   "source": [
    "## Show orientation"
   ]
  },
  {
   "cell_type": "code",
   "execution_count": 22,
   "id": "ccf7a953",
   "metadata": {},
   "outputs": [],
   "source": [
    "# Get IMU data as arrays\n",
    "T = df[\"timestamp\"].values\n",
    "A = df[[\"ax\", \"ay\", \"az\"]].values\n",
    "G = df[[\"gx\", \"gy\", \"gz\"]].values"
   ]
  },
  {
   "cell_type": "code",
   "execution_count": 23,
   "id": "205101fa",
   "metadata": {},
   "outputs": [
    {
     "name": "stderr",
     "output_type": "stream",
     "text": [
      "100%|█████████████████████████████████████████████████████████████████████████| 75169/75169 [00:04<00:00, 15734.48it/s]\n"
     ]
    }
   ],
   "source": [
    "# Apply Madgwick filter\n",
    "madgwick = ahrs.filters.Madgwick()\n",
    "Q = np.zeros((len(T), 4))\n",
    "Q[0] = ahrs.common.orientation.acc2q(A[0])\n",
    "for i in tqdm(range(1, len(T))):\n",
    "    madgwick.Dt = T[i] - T[i - 1]\n",
    "    Q[i] = madgwick.updateIMU(Q[i - 1], G[i], A[i])"
   ]
  },
  {
   "cell_type": "code",
   "execution_count": 24,
   "id": "e9adc4c4",
   "metadata": {},
   "outputs": [],
   "source": [
    "# https://en.wikipedia.org/wiki/Quaternions_and_spatial_rotation#Quaternion-derived_rotation_matrix\n",
    "def rotation_matrix(q):\n",
    "    w = q[..., 0]\n",
    "    x = q[..., 1]\n",
    "    y = q[..., 2]\n",
    "    z = q[..., 3]\n",
    "    R = np.zeros((*q.shape[:-1], 3, 3), dtype=q.dtype)\n",
    "    R[..., 0, 0] = 1 - 2 * (y * y + z * z)\n",
    "    R[..., 0, 1] = 2 * (x * y - z * w)\n",
    "    R[..., 0, 2] = 2 * (x * z + y * w)\n",
    "    R[..., 1, 0] = 2 * (x * y + z * w)\n",
    "    R[..., 1, 1] = 1 - 2 * (x * x + z * z)\n",
    "    R[..., 1, 2] = 2 * (y * z - x * w)\n",
    "    R[..., 2, 0] = 2 * (x * z - y * w)\n",
    "    R[..., 2, 1] = 2 * (y * z + x * w)\n",
    "    R[..., 2, 2] = 1 - 2 * (x * x + y * y)\n",
    "    return R"
   ]
  },
  {
   "cell_type": "code",
   "execution_count": 25,
   "id": "b3794ae9",
   "metadata": {},
   "outputs": [],
   "source": [
    "# Get rotation matrix associated to quaternions (body to navigation)\n",
    "R = rotation_matrix(Q)"
   ]
  },
  {
   "cell_type": "code",
   "execution_count": 26,
   "id": "f8aa1b39",
   "metadata": {},
   "outputs": [],
   "source": [
    "# Get inverse matrix (navigation to body)\n",
    "# Note: matrices are orthogonal, so transpose is equivalent to inversion\n",
    "R_inv = R.transpose(0, 2, 1)"
   ]
  },
  {
   "cell_type": "code",
   "execution_count": 27,
   "id": "45c543f3",
   "metadata": {},
   "outputs": [],
   "source": [
    "# X-axis is pointing alongside the pen, toward the tip\n",
    "forward = R[:, :, 0]"
   ]
  },
  {
   "cell_type": "code",
   "execution_count": 28,
   "id": "f1f931d3",
   "metadata": {},
   "outputs": [
    {
     "data": {
      "image/png": "[encoded data removed]",
      "text/plain": [
       "<Figure size 576x216 with 1 Axes>"
      ]
     },
     "metadata": {
      "needs_background": "light"
     },
     "output_type": "display_data"
    }
   ],
   "source": [
    "i = 0\n",
    "ex = np.array([1.0, 0.0, 0.0])\n",
    "ey = np.array([0.0, 0.0, 1.0])\n",
    "indices = np.arange(boundaries[i], boundaries[i] + 100, 5)\n",
    "_, ax = plt.subplots(figsize=(8, 3))\n",
    "for j, c in enumerate(\"rgb\"):\n",
    "    ax.quiver(\n",
    "        T[indices],\n",
    "        np.zeros(len(indices)),\n",
    "        R[indices, :, j] @ ex,\n",
    "        R[indices, :, j] @ ey,\n",
    "        color=c,\n",
    "        scale_units=\"dots\",\n",
    "        scale=0.05,\n",
    "        width=0.002,\n",
    "    )\n",
    "plt.show()"
   ]
  },
  {
   "cell_type": "code",
   "execution_count": 29,
   "id": "29f878e4",
   "metadata": {},
   "outputs": [],
   "source": [
    "# TODO finish this"
   ]
  }
 ],
 "metadata": {
  "kernelspec": {
   "display_name": "patternRecognition",
   "language": "python",
   "name": "python3"
  },
  "language_info": {
   "codemirror_mode": {
    "name": "ipython",
    "version": 3
   },
   "file_extension": ".py",
   "mimetype": "text/x-python",
   "name": "python",
   "nbconvert_exporter": "python",
   "pygments_lexer": "ipython3",
   "version": "3.10.9"
  },
  "vscode": {
   "interpreter": {
    "hash": "9d47b5ef830055394e26487d860ecbd955ffbd4368ae04afe0279191ddc06d1a"
   }
  }
 },
 "nbformat": 4,
 "nbformat_minor": 5
}
